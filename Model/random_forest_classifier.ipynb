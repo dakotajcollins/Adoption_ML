{
 "cells": [
  {
   "cell_type": "code",
   "execution_count": 2,
   "id": "b59a6bcc",
   "metadata": {},
   "outputs": [],
   "source": [
    "import numpy as np\n",
    "import pandas as pd\n",
    "from pathlib import Path\n",
    "%matplotlib inline\n",
    "from matplotlib import pyplot as plt\n",
    "from sklearn.datasets import make_classification\n",
    "\n",
    "from sklearn.ensemble import RandomForestClassifier\n",
    "from sklearn.linear_model import LogisticRegression\n",
    "from sklearn.model_selection import train_test_split\n",
    "from sklearn.preprocessing import StandardScaler"
   ]
  },
  {
   "cell_type": "code",
   "execution_count": 3,
   "id": "cde09847",
   "metadata": {},
   "outputs": [],
   "source": [
    "read_df = pd.read_csv(Path('../Data/cleaned_adoptions2020_2021.csv'))"
   ]
  },
  {
   "cell_type": "code",
   "execution_count": 5,
   "id": "aa162e9c",
   "metadata": {
    "scrolled": true
   },
   "outputs": [
    {
     "data": {
      "text/html": [
       "<div>\n",
       "<style scoped>\n",
       "    .dataframe tbody tr th:only-of-type {\n",
       "        vertical-align: middle;\n",
       "    }\n",
       "\n",
       "    .dataframe tbody tr th {\n",
       "        vertical-align: top;\n",
       "    }\n",
       "\n",
       "    .dataframe thead th {\n",
       "        text-align: right;\n",
       "    }\n",
       "</style>\n",
       "<table border=\"1\" class=\"dataframe\">\n",
       "  <thead>\n",
       "    <tr style=\"text-align: right;\">\n",
       "      <th></th>\n",
       "      <th>id</th>\n",
       "      <th>name</th>\n",
       "      <th>url</th>\n",
       "      <th>type</th>\n",
       "      <th>primary_breed</th>\n",
       "      <th>seondary_breed</th>\n",
       "      <th>mixed_breed</th>\n",
       "      <th>unknown_breed</th>\n",
       "      <th>primary_color</th>\n",
       "      <th>secondary_color</th>\n",
       "      <th>...</th>\n",
       "      <th>postcode</th>\n",
       "      <th>country</th>\n",
       "      <th>adopt_date</th>\n",
       "      <th>post_date</th>\n",
       "      <th>adoption_days</th>\n",
       "      <th>breed_count</th>\n",
       "      <th>tag_input</th>\n",
       "      <th>photo_input</th>\n",
       "      <th>description_input</th>\n",
       "      <th>adoption_bin</th>\n",
       "    </tr>\n",
       "  </thead>\n",
       "  <tbody>\n",
       "    <tr>\n",
       "      <th>0</th>\n",
       "      <td>50175720</td>\n",
       "      <td>Remy</td>\n",
       "      <td>https://www.petfinder.com/dog/remy-50175720/ga...</td>\n",
       "      <td>Dog</td>\n",
       "      <td>Speciality</td>\n",
       "      <td>NaN</td>\n",
       "      <td>False</td>\n",
       "      <td>False</td>\n",
       "      <td>Tricolor (Brown, Black, &amp; White)</td>\n",
       "      <td>NaN</td>\n",
       "      <td>...</td>\n",
       "      <td>30127</td>\n",
       "      <td>US</td>\n",
       "      <td>2021-02-02</td>\n",
       "      <td>2020-12-31</td>\n",
       "      <td>33</td>\n",
       "      <td>169</td>\n",
       "      <td>True</td>\n",
       "      <td>True</td>\n",
       "      <td>True</td>\n",
       "      <td>3</td>\n",
       "    </tr>\n",
       "    <tr>\n",
       "      <th>1</th>\n",
       "      <td>50175862</td>\n",
       "      <td>Peapod*little hiking buddy</td>\n",
       "      <td>https://www.petfinder.com/dog/peapod-star-litt...</td>\n",
       "      <td>Dog</td>\n",
       "      <td>Chihuahua</td>\n",
       "      <td>NaN</td>\n",
       "      <td>True</td>\n",
       "      <td>False</td>\n",
       "      <td>Golden</td>\n",
       "      <td>NaN</td>\n",
       "      <td>...</td>\n",
       "      <td>95945</td>\n",
       "      <td>US</td>\n",
       "      <td>2021-02-06</td>\n",
       "      <td>2020-12-31</td>\n",
       "      <td>37</td>\n",
       "      <td>2773</td>\n",
       "      <td>False</td>\n",
       "      <td>True</td>\n",
       "      <td>True</td>\n",
       "      <td>3</td>\n",
       "    </tr>\n",
       "    <tr>\n",
       "      <th>2</th>\n",
       "      <td>50175865</td>\n",
       "      <td>Pups</td>\n",
       "      <td>https://www.petfinder.com/dog/pups-50175865/md...</td>\n",
       "      <td>Dog</td>\n",
       "      <td>Mixed Breed</td>\n",
       "      <td>NaN</td>\n",
       "      <td>True</td>\n",
       "      <td>False</td>\n",
       "      <td>Unanswered</td>\n",
       "      <td>NaN</td>\n",
       "      <td>...</td>\n",
       "      <td>20637</td>\n",
       "      <td>US</td>\n",
       "      <td>2021-01-03</td>\n",
       "      <td>2020-12-31</td>\n",
       "      <td>3</td>\n",
       "      <td>2618</td>\n",
       "      <td>False</td>\n",
       "      <td>True</td>\n",
       "      <td>True</td>\n",
       "      <td>1</td>\n",
       "    </tr>\n",
       "    <tr>\n",
       "      <th>3</th>\n",
       "      <td>50175869</td>\n",
       "      <td>Macy--NEEDS A QUIET HOME</td>\n",
       "      <td>https://www.petfinder.com/dog/macy-needs-a-qui...</td>\n",
       "      <td>Dog</td>\n",
       "      <td>Speciality</td>\n",
       "      <td>Lhasa Apso</td>\n",
       "      <td>True</td>\n",
       "      <td>False</td>\n",
       "      <td>White / Cream</td>\n",
       "      <td>NaN</td>\n",
       "      <td>...</td>\n",
       "      <td>37064</td>\n",
       "      <td>US</td>\n",
       "      <td>2021-01-16</td>\n",
       "      <td>2020-12-31</td>\n",
       "      <td>16</td>\n",
       "      <td>195</td>\n",
       "      <td>False</td>\n",
       "      <td>True</td>\n",
       "      <td>True</td>\n",
       "      <td>2</td>\n",
       "    </tr>\n",
       "    <tr>\n",
       "      <th>4</th>\n",
       "      <td>50175868</td>\n",
       "      <td>Rachel</td>\n",
       "      <td>https://www.petfinder.com/dog/rachel-50175868/...</td>\n",
       "      <td>Dog</td>\n",
       "      <td>Chihuahua</td>\n",
       "      <td>NaN</td>\n",
       "      <td>False</td>\n",
       "      <td>False</td>\n",
       "      <td>Brown / Chocolate</td>\n",
       "      <td>NaN</td>\n",
       "      <td>...</td>\n",
       "      <td>95948</td>\n",
       "      <td>US</td>\n",
       "      <td>2021-01-08</td>\n",
       "      <td>2020-12-31</td>\n",
       "      <td>8</td>\n",
       "      <td>2773</td>\n",
       "      <td>False</td>\n",
       "      <td>True</td>\n",
       "      <td>True</td>\n",
       "      <td>2</td>\n",
       "    </tr>\n",
       "  </tbody>\n",
       "</table>\n",
       "<p>5 rows × 39 columns</p>\n",
       "</div>"
      ],
      "text/plain": [
       "         id                        name  \\\n",
       "0  50175720                        Remy   \n",
       "1  50175862  Peapod*little hiking buddy   \n",
       "2  50175865                        Pups   \n",
       "3  50175869    Macy--NEEDS A QUIET HOME   \n",
       "4  50175868                      Rachel   \n",
       "\n",
       "                                                 url type primary_breed  \\\n",
       "0  https://www.petfinder.com/dog/remy-50175720/ga...  Dog    Speciality   \n",
       "1  https://www.petfinder.com/dog/peapod-star-litt...  Dog     Chihuahua   \n",
       "2  https://www.petfinder.com/dog/pups-50175865/md...  Dog   Mixed Breed   \n",
       "3  https://www.petfinder.com/dog/macy-needs-a-qui...  Dog    Speciality   \n",
       "4  https://www.petfinder.com/dog/rachel-50175868/...  Dog     Chihuahua   \n",
       "\n",
       "  seondary_breed  mixed_breed  unknown_breed  \\\n",
       "0            NaN        False          False   \n",
       "1            NaN         True          False   \n",
       "2            NaN         True          False   \n",
       "3     Lhasa Apso         True          False   \n",
       "4            NaN        False          False   \n",
       "\n",
       "                      primary_color secondary_color  ... postcode country  \\\n",
       "0  Tricolor (Brown, Black, & White)             NaN  ...    30127      US   \n",
       "1                            Golden             NaN  ...    95945      US   \n",
       "2                        Unanswered             NaN  ...    20637      US   \n",
       "3                     White / Cream             NaN  ...    37064      US   \n",
       "4                 Brown / Chocolate             NaN  ...    95948      US   \n",
       "\n",
       "   adopt_date   post_date  adoption_days  breed_count  tag_input  photo_input  \\\n",
       "0  2021-02-02  2020-12-31             33          169       True         True   \n",
       "1  2021-02-06  2020-12-31             37         2773      False         True   \n",
       "2  2021-01-03  2020-12-31              3         2618      False         True   \n",
       "3  2021-01-16  2020-12-31             16          195      False         True   \n",
       "4  2021-01-08  2020-12-31              8         2773      False         True   \n",
       "\n",
       "  description_input adoption_bin  \n",
       "0              True            3  \n",
       "1              True            3  \n",
       "2              True            1  \n",
       "3              True            2  \n",
       "4              True            2  \n",
       "\n",
       "[5 rows x 39 columns]"
      ]
     },
     "execution_count": 5,
     "metadata": {},
     "output_type": "execute_result"
    }
   ],
   "source": [
    "read_df.head()"
   ]
  },
  {
   "cell_type": "code",
   "execution_count": 6,
   "id": "9bee8daf",
   "metadata": {
    "scrolled": true
   },
   "outputs": [
    {
     "name": "stdout",
     "output_type": "stream",
     "text": [
      "id\n",
      "name\n",
      "url\n",
      "type\n",
      "primary_breed\n",
      "seondary_breed\n",
      "mixed_breed\n",
      "unknown_breed\n",
      "primary_color\n",
      "secondary_color\n",
      "age\n",
      "gender\n",
      "size\n",
      "coat\n",
      "house_trained\n",
      "spayed_neutered\n",
      "special_needs\n",
      "shots_current\n",
      "gw_children\n",
      "gw_dogs\n",
      "gw_cats\n",
      "tags\n",
      "description\n",
      "photo_urls\n",
      "status\n",
      "status_changed_at\n",
      "published_at\n",
      "city\n",
      "state\n",
      "postcode\n",
      "country\n",
      "adopt_date\n",
      "post_date\n",
      "adoption_days\n",
      "breed_count\n",
      "tag_input\n",
      "photo_input\n",
      "description_input\n",
      "adoption_bin\n"
     ]
    }
   ],
   "source": [
    "# Columns from our Original Dataset\n",
    "\n",
    "for x in read_df.columns:\n",
    "    print(x)"
   ]
  },
  {
   "cell_type": "code",
   "execution_count": 7,
   "id": "b80c0300",
   "metadata": {},
   "outputs": [],
   "source": [
    "# Creating 6 bins to classify which adoption bin to place dogs into.\n",
    "\n",
    "bins = [-1,1,7,30,90,180,500]\n",
    "\n",
    "classifier=['0','1','2','3','4','5']\n",
    "# ageCategory = [\"same_day\",\"first_week\",\"first_month\",\"three_months\",\"hundred_days\",\"longer\"]\n",
    "\n",
    "read_df[\"adoption_bin\"] = pd.cut(read_df[\"adoption_days\"], bins, labels = classifier)"
   ]
  },
  {
   "cell_type": "code",
   "execution_count": 10,
   "id": "aaf03118",
   "metadata": {},
   "outputs": [],
   "source": [
    "# Created a subset of our original dataframe with only the columns that we wanted.\n",
    "\n",
    "model_df = read_df[['primary_breed','mixed_breed','unknown_breed','primary_color','age','gender','size','coat','house_trained','spayed_neutered','special_needs','shots_current','gw_children','gw_dogs','gw_cats','tag_input','photo_input','description_input','adoption_bin']]\n",
    "\n",
    "# Separate our data frame into features and target\n",
    "\n",
    "X = model_df.drop(['adoption_bin'], axis=1)\n",
    "y = model_df['adoption_bin']\n"
   ]
  },
  {
   "cell_type": "code",
   "execution_count": 11,
   "id": "337f7182",
   "metadata": {},
   "outputs": [],
   "source": [
    "# Using get_dummies to convert our data to numeric\n",
    "\n",
    "X_dummies = pd.get_dummies(X)\n",
    "\n",
    "X_dummies = X_dummies.drop(['unknown_breed','description_input'], axis=1)"
   ]
  },
  {
   "cell_type": "code",
   "execution_count": 12,
   "id": "4d1c151f",
   "metadata": {
    "scrolled": true
   },
   "outputs": [
    {
     "name": "stdout",
     "output_type": "stream",
     "text": [
      "mixed_breed\n",
      "house_trained\n",
      "spayed_neutered\n",
      "special_needs\n",
      "shots_current\n",
      "tag_input\n",
      "photo_input\n",
      "primary_breed_American Bulldog\n",
      "primary_breed_American Staffordshire Terrier\n",
      "primary_breed_Australian Cattle Dog / Blue Heeler\n",
      "primary_breed_Australian Shepherd\n",
      "primary_breed_Beagle\n",
      "primary_breed_Black Labrador Retriever\n",
      "primary_breed_Border Collie\n",
      "primary_breed_Boxer\n",
      "primary_breed_Catahoula Leopard Dog\n",
      "primary_breed_Cattle Dog\n",
      "primary_breed_Chihuahua\n",
      "primary_breed_Dachshund\n",
      "primary_breed_German Shepherd Dog\n",
      "primary_breed_Great Dane\n",
      "primary_breed_Great Pyrenees\n",
      "primary_breed_Hound\n",
      "primary_breed_Husky\n",
      "primary_breed_Jack Russell Terrier\n",
      "primary_breed_Labrador Retriever\n",
      "primary_breed_Miniature Pinscher\n",
      "primary_breed_Mixed Breed\n",
      "primary_breed_Pit Bull Terrier\n",
      "primary_breed_Retriever\n",
      "primary_breed_Rottweiler\n",
      "primary_breed_Shepherd\n",
      "primary_breed_Shih Tzu\n",
      "primary_breed_Siberian Husky\n",
      "primary_breed_Speciality\n",
      "primary_breed_Terrier\n",
      "primary_breed_Yorkshire Terrier\n",
      "primary_color_Apricot / Beige\n",
      "primary_color_Bicolor\n",
      "primary_color_Black\n",
      "primary_color_Brindle\n",
      "primary_color_Brown / Chocolate\n",
      "primary_color_Golden\n",
      "primary_color_Gray / Blue / Silver\n",
      "primary_color_Harlequin\n",
      "primary_color_Merle (Blue)\n",
      "primary_color_Merle (Red)\n",
      "primary_color_Red / Chestnut / Orange\n",
      "primary_color_Sable\n",
      "primary_color_Tricolor (Brown, Black, & White)\n",
      "primary_color_Unanswered\n",
      "primary_color_White / Cream\n",
      "primary_color_Yellow / Tan / Blond / Fawn\n",
      "age_Adult\n",
      "age_Baby\n",
      "age_Senior\n",
      "age_Young\n",
      "gender_Female\n",
      "gender_Male\n",
      "size_Extra Large\n",
      "size_Large\n",
      "size_Medium\n",
      "size_Small\n",
      "coat_Curly\n",
      "coat_Hairless\n",
      "coat_Long\n",
      "coat_Medium\n",
      "coat_Short\n",
      "coat_Unanswered\n",
      "coat_Wire\n",
      "gw_children_False\n",
      "gw_children_True\n",
      "gw_children_Unanswered\n",
      "gw_dogs_False\n",
      "gw_dogs_True\n",
      "gw_dogs_Unanswered\n",
      "gw_cats_False\n",
      "gw_cats_True\n",
      "gw_cats_Unanswered\n"
     ]
    }
   ],
   "source": [
    "for x in X_dummies.columns:\n",
    "    print(x)"
   ]
  },
  {
   "cell_type": "code",
   "execution_count": 13,
   "id": "d5717e36",
   "metadata": {},
   "outputs": [],
   "source": [
    "# Split our data into a training set and a testing set\n",
    "\n",
    "X_train, X_test, y_train, y_test = train_test_split(X_dummies, y, random_state=1)"
   ]
  },
  {
   "cell_type": "code",
   "execution_count": 15,
   "id": "93588cf8",
   "metadata": {},
   "outputs": [
    {
     "name": "stdout",
     "output_type": "stream",
     "text": [
      "Training Data Score: 0.8986890302679776\n",
      "Testing Data Score: 0.4960478118372855\n"
     ]
    }
   ],
   "source": [
    "# Train a Random Forest Classifier model and print the model score\n",
    "\n",
    "clf_scaled = RandomForestClassifier(random_state=1, n_estimators=500)\n",
    "clf_scaled.fit(X_train, y_train)\n",
    "\n",
    "print(f\"Training Data Score: {clf_scaled.score(X_train, y_train)}\")\n",
    "print(f\"Testing Data Score: {clf_scaled.score(X_test, y_test)}\")"
   ]
  },
  {
   "cell_type": "markdown",
   "id": "e1f8ba88",
   "metadata": {},
   "source": [
    "# Optimization Attempt"
   ]
  },
  {
   "cell_type": "code",
   "execution_count": 16,
   "id": "204fe4dc",
   "metadata": {},
   "outputs": [
    {
     "name": "stdout",
     "output_type": "stream",
     "text": [
      "{'n_estimators': [200, 400, 600, 800, 1000, 1200, 1400, 1600, 1800, 2000], 'max_features': ['auto', 'sqrt'], 'max_depth': [10, 20, 30, 40, 50, 60, 70, 80, 90, 100, 110, None], 'min_samples_split': [2, 5, 10], 'min_samples_leaf': [1, 2, 4], 'bootstrap': [True, False]}\n"
     ]
    }
   ],
   "source": [
    "from sklearn.model_selection import RandomizedSearchCV\n",
    "\n",
    "# Number of trees in random forest\n",
    "n_estimators = [int(x) for x in np.linspace(start = 200, stop = 2000, num = 10)]\n",
    "\n",
    "# Number of features to consider at every split\n",
    "max_features = ['auto', 'sqrt']\n",
    "\n",
    "# Maximum number of levels in tree\n",
    "max_depth = [int(x) for x in np.linspace(10, 110, num = 11)]\n",
    "max_depth.append(None)\n",
    "\n",
    "# Minimum number of samples required to split a node\n",
    "min_samples_split = [2, 5, 10]\n",
    "\n",
    "# Minimum number of samples required at each leaf node\n",
    "min_samples_leaf = [1, 2, 4]\n",
    "\n",
    "# Method of selecting samples for training each tree\n",
    "bootstrap = [True, False]\n",
    "\n",
    "# Create the random grid\n",
    "random_grid = {'n_estimators': n_estimators,\n",
    "               'max_features': max_features,\n",
    "               'max_depth': max_depth,\n",
    "               'min_samples_split': min_samples_split,\n",
    "               'min_samples_leaf': min_samples_leaf,\n",
    "               'bootstrap': bootstrap}\n",
    "print(random_grid)"
   ]
  },
  {
   "cell_type": "code",
   "execution_count": 18,
   "id": "d7b0b5b7",
   "metadata": {},
   "outputs": [
    {
     "name": "stdout",
     "output_type": "stream",
     "text": [
      "Fitting 3 folds for each of 100 candidates, totalling 300 fits\n"
     ]
    },
    {
     "data": {
      "text/plain": [
       "RandomizedSearchCV(cv=3, estimator=RandomForestClassifier(random_state=1),\n",
       "                   n_iter=100, n_jobs=-1,\n",
       "                   param_distributions={'bootstrap': [True, False],\n",
       "                                        'max_depth': [10, 20, 30, 40, 50, 60,\n",
       "                                                      70, 80, 90, 100, 110,\n",
       "                                                      None],\n",
       "                                        'max_features': ['auto', 'sqrt'],\n",
       "                                        'min_samples_leaf': [1, 2, 4],\n",
       "                                        'min_samples_split': [2, 5, 10],\n",
       "                                        'n_estimators': [200, 400, 600, 800,\n",
       "                                                         1000, 1200, 1400, 1600,\n",
       "                                                         1800, 2000]},\n",
       "                   random_state=1, verbose=2)"
      ]
     },
     "execution_count": 18,
     "metadata": {},
     "output_type": "execute_result"
    }
   ],
   "source": [
    "# Use the random grid to search for best hyperparameters\n",
    "\n",
    "# First create the base model to tune\n",
    "rf = RandomForestClassifier(random_state=1)\n",
    "\n",
    "# Random search of parameters, using 3 fold cross validation, \n",
    "# search across 100 different combinations, and use all available cores\n",
    "rf_random = RandomizedSearchCV(estimator = rf, param_distributions = random_grid, n_iter = 100, cv = 3, verbose=2, random_state=1, n_jobs = -1)\n",
    "\n",
    "# Fit the random search model\n",
    "rf_random.fit(X_train, y_train)"
   ]
  },
  {
   "cell_type": "code",
   "execution_count": 19,
   "id": "60c39945",
   "metadata": {},
   "outputs": [
    {
     "name": "stdout",
     "output_type": "stream",
     "text": [
      "{'n_estimators': 800, 'min_samples_split': 2, 'min_samples_leaf': 1, 'max_features': 'sqrt', 'max_depth': 30, 'bootstrap': True}\n"
     ]
    }
   ],
   "source": [
    "# List the best parameters for this dataset\n",
    "\n",
    "print(rf_random.best_params_)"
   ]
  },
  {
   "cell_type": "code",
   "execution_count": 21,
   "id": "0a9db4b8",
   "metadata": {},
   "outputs": [
    {
     "name": "stdout",
     "output_type": "stream",
     "text": [
      "Training Data Score: 0.8974037658248185\n",
      "Testing Data Score: 0.4995180258338153\n"
     ]
    }
   ],
   "source": [
    "clf_scaled = RandomForestClassifier(random_state=1, n_estimators = 800, min_samples_split = 2, min_samples_leaf= 1, max_features= 'sqrt', max_depth= 30, bootstrap= True)\n",
    "clf_scaled.fit(X_train, y_train)\n",
    "\n",
    "print(f\"Training Data Score: {clf_scaled.score(X_train, y_train)}\")\n",
    "print(f\"Testing Data Score: {clf_scaled.score(X_test, y_test)}\")"
   ]
  },
  {
   "cell_type": "code",
   "execution_count": null,
   "id": "91b97acd",
   "metadata": {},
   "outputs": [],
   "source": []
  },
  {
   "cell_type": "markdown",
   "id": "2e63e9e2",
   "metadata": {},
   "source": [
    "# Feature Importances"
   ]
  },
  {
   "cell_type": "code",
   "execution_count": 22,
   "id": "44d541b3",
   "metadata": {},
   "outputs": [
    {
     "data": {
      "text/plain": [
       "array([0.04381057, 0.02686012, 0.03441444, 0.00889691, 0.02173446,\n",
       "       0.02575644, 0.00532692, 0.00467724, 0.00569929, 0.00729888,\n",
       "       0.00661766, 0.00933771, 0.00354349, 0.00651569, 0.00847054,\n",
       "       0.00333083, 0.00449132, 0.01144303, 0.00716331, 0.01114569,\n",
       "       0.00233182, 0.00351873, 0.00995509, 0.00717567, 0.00462237,\n",
       "       0.01896405, 0.00260108, 0.01370059, 0.01314329, 0.00428927,\n",
       "       0.0035915 , 0.01105031, 0.00353108, 0.0036931 , 0.02951811,\n",
       "       0.01376857, 0.00301362, 0.01438631, 0.01598328, 0.03162114,\n",
       "       0.01331794, 0.01958932, 0.00906864, 0.01129702, 0.0014895 ,\n",
       "       0.0032668 , 0.00207596, 0.01226765, 0.00256367, 0.01643785,\n",
       "       0.02558633, 0.02037084, 0.01441311, 0.01672585, 0.01260789,\n",
       "       0.00893294, 0.01665248, 0.03377871, 0.03395023, 0.00375155,\n",
       "       0.01729352, 0.02117818, 0.01456654, 0.00276367, 0.00038361,\n",
       "       0.00972196, 0.02272253, 0.02712317, 0.02203575, 0.00421471,\n",
       "       0.00882297, 0.01753825, 0.01774505, 0.00516149, 0.01192871,\n",
       "       0.01133487, 0.00827972, 0.01523723, 0.01681031])"
      ]
     },
     "execution_count": 22,
     "metadata": {},
     "output_type": "execute_result"
    }
   ],
   "source": [
    "feature_importances = clf_scaled.feature_importances_\n",
    "feature_importances"
   ]
  },
  {
   "cell_type": "code",
   "execution_count": 23,
   "id": "cae7704a",
   "metadata": {},
   "outputs": [
    {
     "data": {
      "image/png": "[encoded data removed]",
      "text/plain": [
       "<Figure size 720x3600 with 1 Axes>"
      ]
     },
     "metadata": {
      "needs_background": "light"
     },
     "output_type": "display_data"
    }
   ],
   "source": [
    "features = sorted(zip(X.columns, clf_scaled.feature_importances_), key = lambda x: x[1])\n",
    "cols = [f[0] for f in features]\n",
    "width = [f[1] for f in features]\n",
    "\n",
    "fig, ax = plt.subplots()\n",
    "\n",
    "fig.set_size_inches(10,50)\n",
    "plt.margins(y=0.001)\n",
    "\n",
    "ax.barh(y=cols, width=width)\n",
    "\n",
    "plt.show()"
   ]
  },
  {
   "cell_type": "code",
   "execution_count": null,
   "id": "30b6002e",
   "metadata": {},
   "outputs": [],
   "source": []
  },
  {
   "cell_type": "markdown",
   "id": "73b84559",
   "metadata": {},
   "source": [
    "# Analysis / Classification Report"
   ]
  },
  {
   "cell_type": "code",
   "execution_count": 24,
   "id": "6eeaf4f6",
   "metadata": {},
   "outputs": [
    {
     "data": {
      "text/plain": [
       "array([[ 283,  248,  348,   45,    5,    5],\n",
       "       [  88, 1378, 1280,  151,   12,    4],\n",
       "       [  73,  752, 2836,  331,   32,   12],\n",
       "       [  14,  278,  936,  519,   29,    4],\n",
       "       [   7,   57,  260,   53,  113,    1],\n",
       "       [   6,   26,  103,   25,    7,   53]], dtype=int64)"
      ]
     },
     "execution_count": 24,
     "metadata": {},
     "output_type": "execute_result"
    }
   ],
   "source": [
    "from sklearn.metrics import confusion_matrix, classification_report\n",
    "\n",
    "y_true = y_test\n",
    "y_pred = clf_scaled.predict(X_test)\n",
    "\n",
    "confusion_matrix(y_true, y_pred)"
   ]
  },
  {
   "cell_type": "code",
   "execution_count": 25,
   "id": "a065408d",
   "metadata": {
    "scrolled": true
   },
   "outputs": [
    {
     "name": "stdout",
     "output_type": "stream",
     "text": [
      "              precision    recall  f1-score   support\n",
      "\n",
      "           0       0.60      0.30      0.40       934\n",
      "           1       0.50      0.47      0.49      2913\n",
      "           2       0.49      0.70      0.58      4036\n",
      "           3       0.46      0.29      0.36      1780\n",
      "           4       0.57      0.23      0.33       491\n",
      "           5       0.67      0.24      0.35       220\n",
      "\n",
      "    accuracy                           0.50     10374\n",
      "   macro avg       0.55      0.37      0.42     10374\n",
      "weighted avg       0.51      0.50      0.48     10374\n",
      "\n"
     ]
    }
   ],
   "source": [
    "print(classification_report(y_true, y_pred))"
   ]
  },
  {
   "cell_type": "markdown",
   "id": "5d7f1049",
   "metadata": {},
   "source": [
    "# Export Model"
   ]
  },
  {
   "cell_type": "code",
   "execution_count": 26,
   "id": "b9553fa1",
   "metadata": {},
   "outputs": [
    {
     "data": {
      "text/plain": [
       "['random_forest.joblib']"
      ]
     },
     "execution_count": 26,
     "metadata": {},
     "output_type": "execute_result"
    }
   ],
   "source": [
    "import joblib\n",
    "\n",
    "# save\n",
    "\n",
    "joblib.dump(clf_scaled, \"random_forest.joblib\")"
   ]
  },
  {
   "cell_type": "code",
   "execution_count": null,
   "id": "1ab150c5",
   "metadata": {},
   "outputs": [],
   "source": []
  }
 ],
 "metadata": {
  "kernelspec": {
   "display_name": "Python 3",
   "language": "python",
   "name": "python3"
  },
  "language_info": {
   "codemirror_mode": {
    "name": "ipython",
    "version": 3
   },
   "file_extension": ".py",
   "mimetype": "text/x-python",
   "name": "python",
   "nbconvert_exporter": "python",
   "pygments_lexer": "ipython3",
   "version": "3.8.8"
  }
 },
 "nbformat": 4,
 "nbformat_minor": 5
}
